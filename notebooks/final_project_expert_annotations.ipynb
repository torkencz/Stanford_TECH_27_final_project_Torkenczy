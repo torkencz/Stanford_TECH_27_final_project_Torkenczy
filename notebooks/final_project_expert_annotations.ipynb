{
  "cells": [
    {
      "cell_type": "markdown",
      "metadata": {},
      "source": [
        "# PBMC Single-Cell Classification: Expert Annotation Approach\n",
        "## Bonus exercise\n",
        "\n",
        "**Author**: Kristof Torkenczy  \n",
        "**Course**: Tech 27 Machine Learning  \n",
        "**Approach**: Expert-curated SeuratData annotations\n",
        "\n",
        "---\n",
        "\n",
        "## Project Overview\n",
        "\n",
        "This analysis leverages **expertly curated cell type annotations** from the SeuratData package to perform high-accuracy PBMC (Peripheral Blood Mononuclear Cell) classification. Rather than relying on algorithmic marker-based approaches, this pipeline uses professional annotations validated by the single-cell genomics community.\n",
        "\n",
        "### **Expert Annotation Approach**\n",
        "\n",
        "**Method**: Professional curation by Seurat team and community\n",
        "- **Source**: SeuratData package with peer-reviewed annotations\n",
        "- **Quality**: Multi-study consensus and expert validation\n",
        "- **Detail**: 9-20 detailed cell subtypes vs marker\n",
        "- **Standardization**: Consistent nomenclature across studies\n",
        "\n",
        "**Key Features**:\n",
        "- **Expert-curated training data**: Pre-validated cell type annotations\n",
        "- **Comprehensive ML evaluation**: 11 different machine learning algorithms\n",
        "- **High-quality datasets**: pbmc3k (training) + pbmcMultiome (testing)\n",
        "- **Detailed analysis**: Complete downstream analysis with high-resolution figures\n",
        "- **Clinical relevance**: Disease-relevant cell subtypes and biomarkers\n",
        "\n",
        "**Datasets**:\n",
        "- **pbmc3k**: Training dataset with expert annotations (2,700 cells, 9 cell types)\n",
        "- **pbmcMultiome_full**: Test dataset with expert annotations (11,909 cells, 20 cell types)\n",
        "- **Technology**: 10x Chromium (v1 and Multiome) with cross-platform validation\n",
        "- **Source**: SeuratData package with expert validation\n",
        "\n",
        "---\n"
      ]
    },
    {
      "cell_type": "markdown",
      "metadata": {},
      "source": [
        "## 1. Data Download and Organization\n",
        "\n",
        "Download and organize SeuratData expert-annotated PBMC datasets.\n"
      ]
    },
    {
      "cell_type": "code",
      "execution_count": 1,
      "metadata": {},
      "outputs": [],
      "source": [
        "# Download annotated (SeuratData) data\n",
        "!python download_data_unified.py --approach annotated --quiet\n"
      ]
    },
    {
      "cell_type": "markdown",
      "metadata": {},
      "source": [
        "## 2. Exploratory Data Analysis with Expert Annotations\n",
        "\n",
        "Perform comprehensive EDA on expert-annotated datasets without additional annotation steps.\n"
      ]
    },
    {
      "cell_type": "code",
      "execution_count": 2,
      "metadata": {},
      "outputs": [
        {
          "name": "stdout",
          "output_type": "stream",
          "text": [
            "\u001b[0m"
          ]
        }
      ],
      "source": [
        "# Run EDA with expert annotations (no additional annotation needed)\n",
        "!python eda_unified.py --approach annotated --quiet\n"
      ]
    },
    {
      "cell_type": "markdown",
      "metadata": {},
      "source": [
        "## 3. Machine Learning Pipeline\n",
        "\n",
        "Train and evaluate 9 machine learning algorithms on expert-annotated data with both same-dataset and cross-dataset validation.\n"
      ]
    },
    {
      "cell_type": "code",
      "execution_count": 3,
      "metadata": {},
      "outputs": [
        {
          "name": "stdout",
          "output_type": "stream",
          "text": [
            "\u001b[0m"
          ]
        }
      ],
      "source": [
        "# Run complete ML pipeline\n",
        "!python run_pipeline_unified.py --approach annotated --mode both --quiet\n"
      ]
    },
    {
      "cell_type": "markdown",
      "metadata": {},
      "source": [
        "## 4. Results Summary\n",
        "\n",
        "### **Dataset Overview**\n",
        "\n",
        "| Dataset | Cells (Raw) | Cells (Processed) | Genes | Cell Types | Technology |\n",
        "|---------|-------------|-------------------|-------|------------|------------|\n",
        "| **PBMC 3k** | 2,700 | 2,638 | 13,714 → 2,000 HVGs | 9 | 10x v1 |\n",
        "| **PBMC Multiome** | 11,909 | 10,412 | 36,601 → 2,000 HVGs | 19 | 10x Multiome |\n",
        "\n",
        "**Expert Cell Types Identified**:\n",
        "- **PBMC 3k**: B, CD14+ Mono, CD8 T, DC, FCGR3A+ Mono, Memory CD4 T, NK, Naive CD4 T, Platelet\n",
        "- **PBMC Multiome**: 19 detailed cell subtypes including B cells, T cell subsets, Monocytes, NK cells, DCs, and others\n",
        "\n",
        "### **Same-Dataset Performance** (PBMC Multiome internal validation)\n",
        "\n",
        "**Top 3 Performing Models**:\n",
        "\n",
        "| Rank | Model | CV Accuracy | Test Accuracy | F1-Score | ROC-AUC | PR-AUC |\n",
        "|------|-------|-------------|---------------|----------|---------|---------|\n",
        "| **1** | **Keras MLP** | **82.9%** | **85.2%** | 85.1% | 97.4% | 90.6% |\n",
        "| **2** | **SVM (RBF)** | 84.2% | 85.2% | 85.1% | 97.8% | 91.8% |\n",
        "| **3** | **Gradient Boosting** | 84.1% | 85.1% | 85.0% | 97.5% | 91.0% |\n",
        "\n",
        "**Key Performance Insights**:\n",
        "- **Exceptional accuracy**: 85% on 19 detailed cell types\n",
        "- **Robust generalization**: Deep learning (Keras MLP) and traditional ML (SVM) both excel\n",
        "- **High AUC scores**: >97% ROC-AUC indicates excellent discrimination\n",
        "- **Challenging task**: 19 cell types vs. typical 5-8 broad categories\n",
        "\n",
        "### **Cross-Dataset Performance** (Train on PBMC 3k → Test on Multiome)\n",
        "\n",
        "**Traditional ML Models**:\n",
        "\n",
        "| Rank | Model | Train Accuracy | Test Accuracy | F1-Score | Specificity |\n",
        "|------|-------|----------------|---------------|----------|-------------|\n",
        "| **1** | **Naive Bayes** | 96.2% | **79.9%** | 76.3% | 92.7% |\n",
        "| **2** | **Logistic Regression** | 98.7% | 80.0% | 76.3% | 92.5% |\n",
        "| **3** | **Keras MLP** | 99.9% | 80.2% | 76.2% | 92.8% |\n",
        "\n",
        "**Transfer Learning Methods**:\n",
        "\n",
        "| Method | Accuracy | F1-Score | Notes |\n",
        "|--------|----------|----------|--------|\n",
        "| **Scanpy Ingest** (Standard) | **74.6%** | 69.4% | State-of-the-art manifold mapping |\n",
        "| k-NN Transfer Learning | 20.1% | 9.0% | Custom implementation |\n",
        "\n",
        "### **Expert Annotation Advantages**\n",
        "\n",
        "**High-Quality Labels**: Expert labels \n",
        "**Detailed Resolution**: 19 cell subtypes vs 5-8 broad categories  \n",
        "**Cross-Platform Validation**: 10x v1 → Multiome technology transfer  \n",
        "**Clinical Relevance**: Disease-relevant cell subtypes identified  \n",
        "**Standardized Nomenclature**: Consistent with literature standards  \n",
        "\n",
        "### **Key Findings**\n",
        "\n",
        "1. **Expert annotations enable 80%+ cross-dataset accuracy** for 19 detailed cell types\n",
        "2. **Traditional ML** is much closer to the tranfer learning, this indicates that there was mistakes in the automatic annotation\n",
        "3. **Naive Bayes does well** in cross-dataset scenarios with expert annotations\n",
        "4. **Technology transfer works**: 10x v1 → Multiome with minimal performance loss\n",
        "5. **Deep learning competitive**: Keras MLP achieves top-3 performance consistently\n",
        "\n"
      ]
    },
    {
      "cell_type": "markdown",
      "metadata": {},
      "source": [
        "## 5. Methodology Deep Dive\n",
        "\n",
        "### **Expert Annotation Pipeline**\n",
        "\n",
        "**1. Data Source**: SeuratData package with community-validated annotations\n",
        "- **Standardization**: Consistent cell type nomenclature\n",
        "- **Detail Level**: 9-20 cell subtypes vs simplified approaches\n",
        "\n",
        "**2. Preprocessing**:\n",
        "- **Mitochondrial filtering**: < 20% MT gene content\n",
        "- **HVG selection**: 2,000 most variable genes\n",
        "- **Normalization**: Log-transformation and scaling\n",
        "- **Dimensionality reduction**: PCA (50 components) + UMAP\n",
        "\n",
        "**3. Machine Learning Evaluation**:\n",
        "- **13 algorithms**: Traditional ML + Deep Learning + Transfer Learning\n",
        "- **Cross-validation**: 5-fold stratified CV\n",
        "- **Comprehensive metrics**: Accuracy, Precision, Recall, F1, Specificity, ROC-AUC, PR-AUC\n",
        "- **Transfer learning**: Scanpy Ingest (standard) + custom k-NN\n",
        "\n",
        "\n",
        "### **Performance Analysis**\n",
        "\n",
        "**Why Naive Bayes probably works well in Cross-Dataset**:\n",
        "1. **Probabilistic approach** handles uncertainty in feature distributions\n",
        "2. **Independence assumption** robust to dataset-specific correlations  \n",
        "4. **No overfitting** to training dataset specifics\n",
        "\n",
        "**Traditional ML vs Transfer Learning**:\n",
        "- **Traditional ML**: 79.9% (leverages expert-curated features optimally)\n",
        "- **Transfer Learning**: 74.6% much closer. So likely annotation in first was wrong.\n",
        "\n",
        "\n",
        "\n"
      ]
    },
    {
      "cell_type": "markdown",
      "metadata": {},
      "source": [
        "## 6. Visualizations\n",
        "\n",
        "### **Same-Dataset Performance Comparison**\n",
        "<img src=\"figures/machine_learning_results/annotated/same_dataset_union_hvg/performance_comparison.png\" width=\"100%\" style=\"max-width: 800px;\">\n",
        "\n",
        "*Performance comparison of 11 ML algorithms on PBMC Multiome dataset with 19 expert-annotated cell types.*\n",
        "\n",
        "### **Cross-Dataset Model Rankings**  \n",
        "<img src=\"figures/machine_learning_results/annotated/cross_dataset_pbmc_multiome_union_hvg/enhanced_metrics.png\" width=\"100%\" style=\"max-width: 800px;\">\n",
        "\n",
        "*Enhanced metrics visualization showing comprehensive performance across multiple evaluation criteria.*\n",
        "\n",
        "### **Confusion Matrices - Top Performers**\n",
        "<img src=\"figures/machine_learning_results/annotated/cross_dataset_pbmc_multiome_union_hvg/confusion_matrices_top3.png\" width=\"100%\" style=\"max-width: 800px;\">\n",
        "\n",
        "*Confusion matrices for the top 3 performing models in cross-dataset validation.*\n",
        "\n",
        "### **Data Quality Assessment**\n",
        "<img src=\"figures/EDA/annotated/pbmc3k_quality_control.png\" width=\"100%\" style=\"max-width: 800px;\">\n",
        "\n",
        "*Quality control metrics for PBMC 3k training dataset showing mitochondrial content, gene counts, and UMI distribution.*\n",
        "\n",
        "<img src=\"figures/EDA/annotated/pbmc_multiome_full_enhanced_analysis.png\" width=\"100%\" style=\"max-width: 800px;\">\n",
        "\n",
        "*Enhanced analysis of PBMC Multiome test dataset with UMAP embeddings and cell type distributions.*\n"
      ]
    },
    {
      "cell_type": "markdown",
      "metadata": {},
      "source": [
        "## 7. Conclusions\n",
        "### **Major Findings**\n",
        "\n",
        "1. **Expert Annotations Enable High-Resolution Classification**\n",
        "   - **85.2% accuracy** on 19 detailed cell subtypes (vs typical 5-8 broad categories)\n",
        "   - **Professional curation** provides superior training labels compared to algorithmic approaches\n",
        "   - **Cross-platform robustness**: 80% accuracy in 10x v1 → Multiome transfer\n",
        "\n",
        "2. **Traditional ML Competitive with Deep Learning**\n",
        "   - **Naive Bayes**: 79.9% cross-dataset accuracy (best overall)\n",
        "   - **SVM/Logistic Regression**: Consistent 80%+ performance\n",
        "   - **Keras MLP**: Top same-dataset performer (85.2%)\n",
        "   - **Key insight**: Algorithm choice less critical than data quality\n",
        "\n",
        "3. **Transfer Learning Limitations with Expert Data**\n",
        "   - **Scanpy Ingest**: 74.6% (state-of-the-art manifold mapping)\n",
        "   - **Traditional ML**: 79.9% (leveraging expert features directly)\n",
        "   - **Conclusion**: Expert curation provides features superior to learned embeddings\n",
        "\n",
        "I am glad to see that transfer learning does better here. This indicates that marker based annotation needs to be revised.\n"
      ]
    }
  ],
  "metadata": {
    "kernelspec": {
      "display_name": "base",
      "language": "python",
      "name": "python3"
    },
    "language_info": {
      "codemirror_mode": {
        "name": "ipython",
        "version": 3
      },
      "file_extension": ".py",
      "mimetype": "text/x-python",
      "name": "python",
      "nbconvert_exporter": "python",
      "pygments_lexer": "ipython3",
      "version": "3.11.7"
    }
  },
  "nbformat": 4,
  "nbformat_minor": 2
}
